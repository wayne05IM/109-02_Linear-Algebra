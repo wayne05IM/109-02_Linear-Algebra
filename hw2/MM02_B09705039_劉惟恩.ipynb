{
 "cells": [
  {
   "cell_type": "markdown",
   "metadata": {},
   "source": [
    "<h2>Assignment_MM02_B09705039_劉惟恩"
   ]
  },
  {
   "cell_type": "code",
   "execution_count": 1,
   "metadata": {},
   "outputs": [],
   "source": [
    "import numpy as np\n",
    "import pandas as pd"
   ]
  },
  {
   "cell_type": "markdown",
   "metadata": {},
   "source": [
    "<h3>(a)Simulating data"
   ]
  },
  {
   "cell_type": "markdown",
   "metadata": {},
   "source": [
    "<h5>purpose : Simulate the data of 2000 NTU student's independent variable and dependent variable about calculus.<br>\n",
    "    result : 2000 data established."
   ]
  },
  {
   "cell_type": "code",
   "execution_count": 2,
   "metadata": {},
   "outputs": [],
   "source": [
    "np.random.seed(1234)\n",
    "n = 2000 # number of NTU calc I students\n",
    "\n",
    "# simulate high school math GPA\n",
    "hs_math_gpa = np.array(np.random.normal(loc = 3.5, scale = 0.5, size = n))\n",
    "# truncate to 2.0-4.0\n",
    "hs_math_gpa = np.array(np.where(hs_math_gpa < 2.0, 2.0,\n",
    "                      np.where(hs_math_gpa > 4.0, 4.0, hs_math_gpa)))\n",
    "\n",
    "# simulate previous calculus in high school:\n",
    "# - 75% of people with HS math GPAs over 3.6 took HS calculus\n",
    "# - 40% of people with HS math GPAs under 3.6 took HS calculus\n",
    "# binomial data with 1 trial per student, probabilities as above\n",
    "hs_calculus = np.array(np.random.binomial(1, size = n,\n",
    "                      p = np.where(hs_math_gpa >= 3.6, 0.75, 0.40)))\n",
    "\n",
    "# simulate precalculus at NTU:\n",
    "# - if no high school calculus, 70% take precalculus, regardless of grade\n",
    "# - if high school calculus, 60% take precalculus if HS grade < 3.5,\n",
    "#   and 25% otherwise\n",
    "NTU_precalc = np.array(np.random.binomial(1, size = n,\n",
    "                     p = np.where(hs_calculus == 0, 0.70,\n",
    "                                np.where(hs_math_gpa < 3.5, 0.60, 0.25))))"
   ]
  },
  {
   "cell_type": "code",
   "execution_count": 3,
   "metadata": {},
   "outputs": [],
   "source": [
    "true_beta = { \"Intercept\" : 0.3,\n",
    "              \"hs_math_gpa\" : 0.7,\n",
    "              \"hs_calculus\" : 0.3,\n",
    "              \"NTU_precalc\" : 0.1 }\n",
    "\n",
    "true_sigma = 0.5\n",
    "NTU_calculus_gpa = np.array(true_beta[\"Intercept\"] + true_beta[\"hs_math_gpa\"] * hs_math_gpa + true_beta[\"hs_calculus\"] * hs_calculus + true_beta[\"NTU_precalc\"] * NTU_precalc \n",
    "                            + np.random.normal(loc = 0, scale = true_sigma, size = n))\n",
    "# we don't see exact GPAs, just nearest 0.1\n",
    "NTU_calculus_gpa = np.array(np.round(NTU_calculus_gpa, 1))\n",
    "# truncate under 0.7 or over 4.0\n",
    "NTU_calculus_gpa = np.array(np.where(NTU_calculus_gpa > 4.0, 4.0,\n",
    "                          np.where(NTU_calculus_gpa < 0.0, 0.0,\n",
    "                                 np.where(NTU_calculus_gpa < 0.7, 0.7,\n",
    "                                        NTU_calculus_gpa))))"
   ]
  },
  {
   "cell_type": "markdown",
   "metadata": {},
   "source": [
    "<h3>(b)Linear regression"
   ]
  },
  {
   "cell_type": "markdown",
   "metadata": {},
   "source": [
    "<h5>purpose : Using the data established above to do linear regression.<br>\n",
    "    result : Print out the OLS Regression Results."
   ]
  },
  {
   "cell_type": "code",
   "execution_count": 4,
   "metadata": {},
   "outputs": [
    {
     "data": {
      "text/html": [
       "<div>\n",
       "<style scoped>\n",
       "    .dataframe tbody tr th:only-of-type {\n",
       "        vertical-align: middle;\n",
       "    }\n",
       "\n",
       "    .dataframe tbody tr th {\n",
       "        vertical-align: top;\n",
       "    }\n",
       "\n",
       "    .dataframe thead th {\n",
       "        text-align: right;\n",
       "    }\n",
       "</style>\n",
       "<table border=\"1\" class=\"dataframe\">\n",
       "  <thead>\n",
       "    <tr style=\"text-align: right;\">\n",
       "      <th></th>\n",
       "      <th>NTU_calculus_gpa</th>\n",
       "      <th>hs_math_gpa</th>\n",
       "      <th>hs_calculus</th>\n",
       "      <th>NTU_precalc</th>\n",
       "    </tr>\n",
       "  </thead>\n",
       "  <tbody>\n",
       "    <tr>\n",
       "      <th>0</th>\n",
       "      <td>2.9</td>\n",
       "      <td>3.735718</td>\n",
       "      <td>1</td>\n",
       "      <td>1</td>\n",
       "    </tr>\n",
       "    <tr>\n",
       "      <th>1</th>\n",
       "      <td>2.8</td>\n",
       "      <td>2.904512</td>\n",
       "      <td>0</td>\n",
       "      <td>1</td>\n",
       "    </tr>\n",
       "    <tr>\n",
       "      <th>2</th>\n",
       "      <td>3.2</td>\n",
       "      <td>4.000000</td>\n",
       "      <td>0</td>\n",
       "      <td>1</td>\n",
       "    </tr>\n",
       "    <tr>\n",
       "      <th>3</th>\n",
       "      <td>2.4</td>\n",
       "      <td>3.343674</td>\n",
       "      <td>0</td>\n",
       "      <td>0</td>\n",
       "    </tr>\n",
       "    <tr>\n",
       "      <th>4</th>\n",
       "      <td>3.0</td>\n",
       "      <td>3.139706</td>\n",
       "      <td>1</td>\n",
       "      <td>1</td>\n",
       "    </tr>\n",
       "    <tr>\n",
       "      <th>...</th>\n",
       "      <td>...</td>\n",
       "      <td>...</td>\n",
       "      <td>...</td>\n",
       "      <td>...</td>\n",
       "    </tr>\n",
       "    <tr>\n",
       "      <th>1995</th>\n",
       "      <td>3.6</td>\n",
       "      <td>3.816289</td>\n",
       "      <td>1</td>\n",
       "      <td>0</td>\n",
       "    </tr>\n",
       "    <tr>\n",
       "      <th>1996</th>\n",
       "      <td>3.1</td>\n",
       "      <td>4.000000</td>\n",
       "      <td>1</td>\n",
       "      <td>0</td>\n",
       "    </tr>\n",
       "    <tr>\n",
       "      <th>1997</th>\n",
       "      <td>3.0</td>\n",
       "      <td>3.890731</td>\n",
       "      <td>1</td>\n",
       "      <td>0</td>\n",
       "    </tr>\n",
       "    <tr>\n",
       "      <th>1998</th>\n",
       "      <td>3.7</td>\n",
       "      <td>4.000000</td>\n",
       "      <td>1</td>\n",
       "      <td>0</td>\n",
       "    </tr>\n",
       "    <tr>\n",
       "      <th>1999</th>\n",
       "      <td>2.7</td>\n",
       "      <td>3.045825</td>\n",
       "      <td>0</td>\n",
       "      <td>1</td>\n",
       "    </tr>\n",
       "  </tbody>\n",
       "</table>\n",
       "<p>2000 rows × 4 columns</p>\n",
       "</div>"
      ],
      "text/plain": [
       "      NTU_calculus_gpa  hs_math_gpa  hs_calculus  NTU_precalc\n",
       "0                  2.9     3.735718            1            1\n",
       "1                  2.8     2.904512            0            1\n",
       "2                  3.2     4.000000            0            1\n",
       "3                  2.4     3.343674            0            0\n",
       "4                  3.0     3.139706            1            1\n",
       "...                ...          ...          ...          ...\n",
       "1995               3.6     3.816289            1            0\n",
       "1996               3.1     4.000000            1            0\n",
       "1997               3.0     3.890731            1            0\n",
       "1998               3.7     4.000000            1            0\n",
       "1999               2.7     3.045825            0            1\n",
       "\n",
       "[2000 rows x 4 columns]"
      ]
     },
     "execution_count": 4,
     "metadata": {},
     "output_type": "execute_result"
    }
   ],
   "source": [
    "d1 = {'NTU_calculus_gpa': NTU_calculus_gpa, 'hs_math_gpa': hs_math_gpa, 'hs_calculus' : hs_calculus, 'NTU_precalc' : NTU_precalc}\n",
    "\n",
    "calculus_data = pd.DataFrame (data = d1)\n",
    "calculus_data"
   ]
  },
  {
   "cell_type": "code",
   "execution_count": 5,
   "metadata": {},
   "outputs": [
    {
     "data": {
      "text/html": [
       "<table class=\"simpletable\">\n",
       "<caption>OLS Regression Results</caption>\n",
       "<tr>\n",
       "  <th>Dep. Variable:</th>    <td>NTU_calculus_gpa</td> <th>  R-squared:         </th> <td>   0.347</td> \n",
       "</tr>\n",
       "<tr>\n",
       "  <th>Model:</th>                   <td>OLS</td>       <th>  Adj. R-squared:    </th> <td>   0.346</td> \n",
       "</tr>\n",
       "<tr>\n",
       "  <th>Method:</th>             <td>Least Squares</td>  <th>  F-statistic:       </th> <td>   353.0</td> \n",
       "</tr>\n",
       "<tr>\n",
       "  <th>Date:</th>             <td>Fri, 07 May 2021</td> <th>  Prob (F-statistic):</th> <td>6.63e-184</td>\n",
       "</tr>\n",
       "<tr>\n",
       "  <th>Time:</th>                 <td>18:12:52</td>     <th>  Log-Likelihood:    </th> <td> -1353.0</td> \n",
       "</tr>\n",
       "<tr>\n",
       "  <th>No. Observations:</th>      <td>  2000</td>      <th>  AIC:               </th> <td>   2714.</td> \n",
       "</tr>\n",
       "<tr>\n",
       "  <th>Df Residuals:</th>          <td>  1996</td>      <th>  BIC:               </th> <td>   2736.</td> \n",
       "</tr>\n",
       "<tr>\n",
       "  <th>Df Model:</th>              <td>     3</td>      <th>                     </th>     <td> </td>    \n",
       "</tr>\n",
       "<tr>\n",
       "  <th>Covariance Type:</th>      <td>nonrobust</td>    <th>                     </th>     <td> </td>    \n",
       "</tr>\n",
       "</table>\n",
       "<table class=\"simpletable\">\n",
       "<tr>\n",
       "       <td></td>          <th>coef</th>     <th>std err</th>      <th>t</th>      <th>P>|t|</th>  <th>[0.025</th>    <th>0.975]</th>  \n",
       "</tr>\n",
       "<tr>\n",
       "  <th>const</th>       <td>    0.4872</td> <td>    0.095</td> <td>    5.120</td> <td> 0.000</td> <td>    0.301</td> <td>    0.674</td>\n",
       "</tr>\n",
       "<tr>\n",
       "  <th>hs_math_gpa</th> <td>    0.6372</td> <td>    0.027</td> <td>   23.538</td> <td> 0.000</td> <td>    0.584</td> <td>    0.690</td>\n",
       "</tr>\n",
       "<tr>\n",
       "  <th>hs_calculus</th> <td>    0.3470</td> <td>    0.024</td> <td>   14.678</td> <td> 0.000</td> <td>    0.301</td> <td>    0.393</td>\n",
       "</tr>\n",
       "<tr>\n",
       "  <th>NTU_precalc</th> <td>    0.0945</td> <td>    0.023</td> <td>    4.111</td> <td> 0.000</td> <td>    0.049</td> <td>    0.140</td>\n",
       "</tr>\n",
       "</table>\n",
       "<table class=\"simpletable\">\n",
       "<tr>\n",
       "  <th>Omnibus:</th>       <td> 8.233</td> <th>  Durbin-Watson:     </th> <td>   1.998</td>\n",
       "</tr>\n",
       "<tr>\n",
       "  <th>Prob(Omnibus):</th> <td> 0.016</td> <th>  Jarque-Bera (JB):  </th> <td>   8.148</td>\n",
       "</tr>\n",
       "<tr>\n",
       "  <th>Skew:</th>          <td>-0.138</td> <th>  Prob(JB):          </th> <td>  0.0170</td>\n",
       "</tr>\n",
       "<tr>\n",
       "  <th>Kurtosis:</th>      <td> 2.851</td> <th>  Cond. No.          </th> <td>    34.5</td>\n",
       "</tr>\n",
       "</table><br/><br/>Notes:<br/>[1] Standard Errors assume that the covariance matrix of the errors is correctly specified."
      ],
      "text/plain": [
       "<class 'statsmodels.iolib.summary.Summary'>\n",
       "\"\"\"\n",
       "                            OLS Regression Results                            \n",
       "==============================================================================\n",
       "Dep. Variable:       NTU_calculus_gpa   R-squared:                       0.347\n",
       "Model:                            OLS   Adj. R-squared:                  0.346\n",
       "Method:                 Least Squares   F-statistic:                     353.0\n",
       "Date:                Fri, 07 May 2021   Prob (F-statistic):          6.63e-184\n",
       "Time:                        18:12:52   Log-Likelihood:                -1353.0\n",
       "No. Observations:                2000   AIC:                             2714.\n",
       "Df Residuals:                    1996   BIC:                             2736.\n",
       "Df Model:                           3                                         \n",
       "Covariance Type:            nonrobust                                         \n",
       "===============================================================================\n",
       "                  coef    std err          t      P>|t|      [0.025      0.975]\n",
       "-------------------------------------------------------------------------------\n",
       "const           0.4872      0.095      5.120      0.000       0.301       0.674\n",
       "hs_math_gpa     0.6372      0.027     23.538      0.000       0.584       0.690\n",
       "hs_calculus     0.3470      0.024     14.678      0.000       0.301       0.393\n",
       "NTU_precalc     0.0945      0.023      4.111      0.000       0.049       0.140\n",
       "==============================================================================\n",
       "Omnibus:                        8.233   Durbin-Watson:                   1.998\n",
       "Prob(Omnibus):                  0.016   Jarque-Bera (JB):                8.148\n",
       "Skew:                          -0.138   Prob(JB):                       0.0170\n",
       "Kurtosis:                       2.851   Cond. No.                         34.5\n",
       "==============================================================================\n",
       "\n",
       "Notes:\n",
       "[1] Standard Errors assume that the covariance matrix of the errors is correctly specified.\n",
       "\"\"\""
      ]
     },
     "execution_count": 5,
     "metadata": {},
     "output_type": "execute_result"
    }
   ],
   "source": [
    "from sklearn.linear_model import LinearRegression\n",
    "calculus_lm = LinearRegression()\n",
    "\n",
    "X_var = calculus_data[['hs_math_gpa', 'hs_calculus', 'NTU_precalc']]\n",
    "Y_var = calculus_data['NTU_calculus_gpa']\n",
    "\n",
    "calculus_lm.fit(X_var, Y_var)\n",
    "\n",
    "import statsmodels.api as sm\n",
    "\n",
    "X_var = sm.add_constant(X_var)\n",
    "results = sm.OLS(Y_var, X_var).fit()\n",
    "results.summary()"
   ]
  },
  {
   "cell_type": "markdown",
   "metadata": {},
   "source": [
    "<h3>(c)Setup X and y"
   ]
  },
  {
   "cell_type": "markdown",
   "metadata": {},
   "source": [
    "<h5>purpose : Put the stimulated data into X y arrays.<br>\n",
    "    result : X y arrays established."
   ]
  },
  {
   "cell_type": "code",
   "execution_count": 6,
   "metadata": {},
   "outputs": [
    {
     "name": "stdout",
     "output_type": "stream",
     "text": [
      "      Intercept  hs_math_gpa  hs_calculus  NTU_precalc\n",
      "0           1.0     3.735718            1            1\n",
      "1           1.0     2.904512            0            1\n",
      "2           1.0     4.000000            0            1\n",
      "3           1.0     3.343674            0            0\n",
      "4           1.0     3.139706            1            1\n",
      "...         ...          ...          ...          ...\n",
      "1995        1.0     3.816289            1            0\n",
      "1996        1.0     4.000000            1            0\n",
      "1997        1.0     3.890731            1            0\n",
      "1998        1.0     4.000000            1            0\n",
      "1999        1.0     3.045825            0            1\n",
      "\n",
      "[2000 rows x 4 columns]\n",
      "0       2.9\n",
      "1       2.8\n",
      "2       3.2\n",
      "3       2.4\n",
      "4       3.0\n",
      "       ... \n",
      "1995    3.6\n",
      "1996    3.1\n",
      "1997    3.0\n",
      "1998    3.7\n",
      "1999    2.7\n",
      "Name: NTU_calculus_gpa, Length: 2000, dtype: float64\n"
     ]
    }
   ],
   "source": [
    "allOne = np.ones((2000, 1))\n",
    "one = pd.DataFrame(allOne, columns = ['Intercept'])\n",
    "\n",
    "X = pd.concat((one, calculus_data['hs_math_gpa'], calculus_data['hs_calculus'], calculus_data['NTU_precalc']), axis = 1)\n",
    "print(X)\n",
    "y = calculus_data['NTU_calculus_gpa']\n",
    "print(y)"
   ]
  },
  {
   "cell_type": "markdown",
   "metadata": {},
   "source": [
    "<h3>(d)Compute matrix quantities (adjoint matrix, determinant, inverse)"
   ]
  },
  {
   "cell_type": "markdown",
   "metadata": {},
   "source": [
    "<h5>purpose : Compute the adjoint matrix, determinant, inverse of X.<br>\n",
    "    result : Outputs adjoint matrix, determinant, inverse."
   ]
  },
  {
   "cell_type": "code",
   "execution_count": 7,
   "metadata": {},
   "outputs": [
    {
     "name": "stdout",
     "output_type": "stream",
     "text": [
      "adjoint matrix:\n",
      " [[ 2000.          6941.76090265  1121.          1024.        ]\n",
      " [ 6941.76090265 24445.314274    4020.929233    3452.32404242]\n",
      " [ 1121.          4020.929233    1121.           402.        ]\n",
      " [ 1024.          3452.32404242   402.          1024.        ]]\n"
     ]
    }
   ],
   "source": [
    "C = np.dot(np.transpose(X), X)\n",
    "\n",
    "A = np.matrix(C)\n",
    "A = A.getH()\n",
    "print(\"adjoint matrix:\\n\", A)"
   ]
  },
  {
   "cell_type": "code",
   "execution_count": 8,
   "metadata": {},
   "outputs": [
    {
     "name": "stdout",
     "output_type": "stream",
     "text": [
      "determinant:\n",
      " 134181610758.34204\n"
     ]
    }
   ],
   "source": [
    "print(\"determinant:\\n\", np.linalg.det(C))"
   ]
  },
  {
   "cell_type": "code",
   "execution_count": 9,
   "metadata": {},
   "outputs": [
    {
     "name": "stdout",
     "output_type": "stream",
     "text": [
      "inverse:\n",
      " [[ 0.03990558 -0.01102276  0.00071678 -0.00302474]\n",
      " [-0.01102276  0.00322891 -0.00070776  0.00041462]\n",
      " [ 0.00071678 -0.00070776  0.00246189  0.00070288]\n",
      " [-0.00302474  0.00041462  0.00070288  0.00232753]]\n"
     ]
    }
   ],
   "source": [
    "I = np.linalg.inv(C)\n",
    "print(\"inverse:\\n\", I)"
   ]
  },
  {
   "cell_type": "markdown",
   "metadata": {},
   "source": [
    "<h3>(e)Compute matrix quantities (beta, residuals, residual variance, standard errors of the covariance matrix)"
   ]
  },
  {
   "cell_type": "markdown",
   "metadata": {},
   "source": [
    "<h5>purpose : Compute the beta, residuals, residual variance, standard errors of the covariance matrix.<br>\n",
    "    result : Outputs beta, residuals, residual variance, standard errors of the covariance matrix."
   ]
  },
  {
   "cell_type": "code",
   "execution_count": 10,
   "metadata": {},
   "outputs": [
    {
     "name": "stdout",
     "output_type": "stream",
     "text": [
      "beta:\n",
      " [0.48724356 0.6372306  0.34697404 0.09448487]\n"
     ]
    }
   ],
   "source": [
    "beta = np.linalg.multi_dot([I, np.transpose(X), y])\n",
    "print(\"beta:\\n\", beta)\n",
    "\n",
    "beta_df = pd.DataFrame(beta).T\n",
    "beta_df.columns = ['Intercept', 'hs_math_gpa', 'hs_calculus', 'NTU_precalc']"
   ]
  },
  {
   "cell_type": "code",
   "execution_count": 11,
   "metadata": {},
   "outputs": [
    {
     "name": "stdout",
     "output_type": "stream",
     "text": [
      "residuals:\n",
      " 0      -0.409216\n",
      "1       0.367428\n",
      "2       0.069349\n",
      "3      -0.217935\n",
      "4       0.070581\n",
      "          ...   \n",
      "1995    0.333926\n",
      "1996   -0.283140\n",
      "1997   -0.313511\n",
      "1998    0.316860\n",
      "1999    0.177379\n",
      "Name: NTU_calculus_gpa, Length: 2000, dtype: float64\n"
     ]
    }
   ],
   "source": [
    "residuals = y - np.dot(X, beta)\n",
    "print(\"residuals:\\n\", residuals)"
   ]
  },
  {
   "cell_type": "code",
   "execution_count": 12,
   "metadata": {},
   "outputs": [
    {
     "name": "stdout",
     "output_type": "stream",
     "text": [
      "residual variance:\n",
      " 0.22697720801922477\n"
     ]
    }
   ],
   "source": [
    "p = calculus_data.shape[1] - 1\n",
    "\n",
    "residual_var = np.dot(np.transpose(residuals), residuals / (n - p - 1))\n",
    "residual_var = pd.to_numeric(residual_var)\n",
    "print(\"residual variance:\\n\", residual_var)"
   ]
  },
  {
   "cell_type": "code",
   "execution_count": 13,
   "metadata": {},
   "outputs": [
    {
     "name": "stdout",
     "output_type": "stream",
     "text": [
      "standard errors of the covariance matrix:\n",
      " [0.09517172 0.02707193 0.02363878 0.02298468]\n"
     ]
    }
   ],
   "source": [
    "beta_covar = residual_var * I\n",
    "beta_SE = np.sqrt(np.diag(beta_covar))\n",
    "print(\"standard errors of the covariance matrix:\\n\", beta_SE)\n",
    "\n",
    "beta_SE_df = pd.DataFrame(beta_SE).T\n",
    "beta_SE_df.columns = ['Intercept', 'hs_math_gpa', 'hs_calculus', 'NTU_precalc']"
   ]
  },
  {
   "cell_type": "markdown",
   "metadata": {},
   "source": [
    "<h3>(f)Compute the results (beta comparision)"
   ]
  },
  {
   "cell_type": "markdown",
   "metadata": {},
   "source": [
    "<h5>purpose : Compare the coefficients of truth, manual and lm.<br>\n",
    "    result : Outputs comparision dataframe."
   ]
  },
  {
   "cell_type": "code",
   "execution_count": 14,
   "metadata": {},
   "outputs": [
    {
     "data": {
      "text/html": [
       "<div>\n",
       "<style scoped>\n",
       "    .dataframe tbody tr th:only-of-type {\n",
       "        vertical-align: middle;\n",
       "    }\n",
       "\n",
       "    .dataframe tbody tr th {\n",
       "        vertical-align: top;\n",
       "    }\n",
       "\n",
       "    .dataframe thead th {\n",
       "        text-align: right;\n",
       "    }\n",
       "</style>\n",
       "<table border=\"1\" class=\"dataframe\">\n",
       "  <thead>\n",
       "    <tr style=\"text-align: right;\">\n",
       "      <th></th>\n",
       "      <th>Truth</th>\n",
       "      <th>Manual</th>\n",
       "      <th>ln</th>\n",
       "    </tr>\n",
       "  </thead>\n",
       "  <tbody>\n",
       "    <tr>\n",
       "      <th>Intercept</th>\n",
       "      <td>0.3</td>\n",
       "      <td>0.487244</td>\n",
       "      <td>0.487244</td>\n",
       "    </tr>\n",
       "    <tr>\n",
       "      <th>hs_math_gpa</th>\n",
       "      <td>0.7</td>\n",
       "      <td>0.637231</td>\n",
       "      <td>0.637231</td>\n",
       "    </tr>\n",
       "    <tr>\n",
       "      <th>hs_calculus</th>\n",
       "      <td>0.3</td>\n",
       "      <td>0.346974</td>\n",
       "      <td>0.346974</td>\n",
       "    </tr>\n",
       "    <tr>\n",
       "      <th>NTU_precalc</th>\n",
       "      <td>0.1</td>\n",
       "      <td>0.094485</td>\n",
       "      <td>0.094485</td>\n",
       "    </tr>\n",
       "  </tbody>\n",
       "</table>\n",
       "</div>"
      ],
      "text/plain": [
       "             Truth    Manual        ln\n",
       "Intercept      0.3  0.487244  0.487244\n",
       "hs_math_gpa    0.7  0.637231  0.637231\n",
       "hs_calculus    0.3  0.346974  0.346974\n",
       "NTU_precalc    0.1  0.094485  0.094485"
      ]
     },
     "execution_count": 14,
     "metadata": {},
     "output_type": "execute_result"
    }
   ],
   "source": [
    "true_beta_df = pd.DataFrame (true_beta, index=[0])\n",
    "\n",
    "coef = results.params\n",
    "coef_df = pd.DataFrame(data = coef)\n",
    "coef_df.columns = ['0']\n",
    "coef_df.index = ['Intercept', 'hs_math_gpa', 'hs_calculus', 'NTU_precalc']\n",
    "\n",
    "beta_compare = pd.concat((true_beta_df.T, beta_df.T, coef_df), axis = 1)\n",
    "beta_compare.columns =['Truth', 'Manual', 'ln']\n",
    "beta_compare"
   ]
  },
  {
   "cell_type": "markdown",
   "metadata": {},
   "source": [
    "<h3>(g)Compute the results (standard error comparision)"
   ]
  },
  {
   "cell_type": "markdown",
   "metadata": {},
   "source": [
    "<h5>purpose : Compare the standard errors of truth, manual and lm.<br>\n",
    "    result : Outputs comparision dataframe."
   ]
  },
  {
   "cell_type": "code",
   "execution_count": 15,
   "metadata": {},
   "outputs": [
    {
     "data": {
      "text/html": [
       "<div>\n",
       "<style scoped>\n",
       "    .dataframe tbody tr th:only-of-type {\n",
       "        vertical-align: middle;\n",
       "    }\n",
       "\n",
       "    .dataframe tbody tr th {\n",
       "        vertical-align: top;\n",
       "    }\n",
       "\n",
       "    .dataframe thead th {\n",
       "        text-align: right;\n",
       "    }\n",
       "</style>\n",
       "<table border=\"1\" class=\"dataframe\">\n",
       "  <thead>\n",
       "    <tr style=\"text-align: right;\">\n",
       "      <th></th>\n",
       "      <th>Truth</th>\n",
       "      <th>Manual</th>\n",
       "      <th>ln</th>\n",
       "    </tr>\n",
       "  </thead>\n",
       "  <tbody>\n",
       "    <tr>\n",
       "      <th>Intercept</th>\n",
       "      <td>0.099882</td>\n",
       "      <td>0.095172</td>\n",
       "      <td>0.095172</td>\n",
       "    </tr>\n",
       "    <tr>\n",
       "      <th>hs_math_gpa</th>\n",
       "      <td>0.028412</td>\n",
       "      <td>0.027072</td>\n",
       "      <td>0.027072</td>\n",
       "    </tr>\n",
       "    <tr>\n",
       "      <th>hs_calculus</th>\n",
       "      <td>0.024809</td>\n",
       "      <td>0.023639</td>\n",
       "      <td>0.023639</td>\n",
       "    </tr>\n",
       "    <tr>\n",
       "      <th>NTU_precalc</th>\n",
       "      <td>0.024122</td>\n",
       "      <td>0.022985</td>\n",
       "      <td>0.022985</td>\n",
       "    </tr>\n",
       "  </tbody>\n",
       "</table>\n",
       "</div>"
      ],
      "text/plain": [
       "                Truth    Manual        ln\n",
       "Intercept    0.099882  0.095172  0.095172\n",
       "hs_math_gpa  0.028412  0.027072  0.027072\n",
       "hs_calculus  0.024809  0.023639  0.023639\n",
       "NTU_precalc  0.024122  0.022985  0.022985"
      ]
     },
     "execution_count": 15,
     "metadata": {},
     "output_type": "execute_result"
    }
   ],
   "source": [
    "true_covar = np.dot(true_sigma**float(2), I)\n",
    "true_SE = np.sqrt(np.diag(true_covar))\n",
    "true_SE_df = pd.DataFrame (true_SE, columns = [0], index = ['Intercept', 'hs_math_gpa', 'hs_calculus', 'NTU_precalc'])\n",
    "\n",
    "SE_df = results.bse\n",
    "SE_df = SE_df.to_frame()\n",
    "SE_df.columns = ['0']\n",
    "SE_df.index = ['Intercept', 'hs_math_gpa', 'hs_calculus', 'NTU_precalc']\n",
    "\n",
    "SE_compare = pd.concat((true_SE_df, beta_SE_df.T, SE_df), axis = 1)\n",
    "SE_compare.columns =['Truth', 'Manual', 'ln']\n",
    "SE_compare"
   ]
  },
  {
   "cell_type": "markdown",
   "metadata": {},
   "source": [
    "<h3>(h)Compute the results (residual variance comparision)"
   ]
  },
  {
   "cell_type": "markdown",
   "metadata": {},
   "source": [
    "<h5>purpose : Compare the residual variance of truth, manual and lm.<br>\n",
    "    result : Outputs comparision dataframe."
   ]
  },
  {
   "cell_type": "code",
   "execution_count": 16,
   "metadata": {},
   "outputs": [
    {
     "data": {
      "text/html": [
       "<div>\n",
       "<style scoped>\n",
       "    .dataframe tbody tr th:only-of-type {\n",
       "        vertical-align: middle;\n",
       "    }\n",
       "\n",
       "    .dataframe tbody tr th {\n",
       "        vertical-align: top;\n",
       "    }\n",
       "\n",
       "    .dataframe thead th {\n",
       "        text-align: right;\n",
       "    }\n",
       "</style>\n",
       "<table border=\"1\" class=\"dataframe\">\n",
       "  <thead>\n",
       "    <tr style=\"text-align: right;\">\n",
       "      <th></th>\n",
       "      <th>Truth</th>\n",
       "      <th>Manual</th>\n",
       "      <th>ln</th>\n",
       "    </tr>\n",
       "  </thead>\n",
       "  <tbody>\n",
       "    <tr>\n",
       "      <th>residual variance</th>\n",
       "      <td>0.25</td>\n",
       "      <td>0.226977</td>\n",
       "      <td>0.226977</td>\n",
       "    </tr>\n",
       "  </tbody>\n",
       "</table>\n",
       "</div>"
      ],
      "text/plain": [
       "                   Truth    Manual        ln\n",
       "residual variance   0.25  0.226977  0.226977"
      ]
     },
     "execution_count": 16,
     "metadata": {},
     "output_type": "execute_result"
    }
   ],
   "source": [
    "resid_val = results.resid\n",
    "resid_val_sum = 0\n",
    "for i in range(2000):\n",
    "    resid_val_sum += (resid_val[i] ** 2)\n",
    "resid_var_lm = resid_val_sum / (n - p - 1)\n",
    "resid_var_lm_dic = {resid_var_lm}\n",
    "resid_var_lm_df = pd.DataFrame(resid_var_lm_dic)\n",
    "\n",
    "resid_var = {residual_var}\n",
    "resid_var_df =  pd.DataFrame(data = resid_var)\n",
    "\n",
    "true_resid = {true_sigma**2}\n",
    "true_resid_df = pd.DataFrame(data = true_resid)\n",
    "\n",
    "resid_var_compare = pd.concat((true_resid_df, resid_var_df, resid_var_lm_df), axis = 1)\n",
    "resid_var_compare.columns = ['Truth', 'Manual', 'ln']\n",
    "resid_var_compare.index = ['residual variance']\n",
    "resid_var_compare"
   ]
  },
  {
   "cell_type": "markdown",
   "metadata": {},
   "source": [
    "<h3>(i)Prediction"
   ]
  },
  {
   "cell_type": "markdown",
   "metadata": {},
   "source": [
    "<h5>purpose : Predict the calculus gpa of a student and compare truth, manual and lm.<br>\n",
    "    result : Outputs comparision dataframe."
   ]
  },
  {
   "cell_type": "code",
   "execution_count": 17,
   "metadata": {},
   "outputs": [
    {
     "data": {
      "text/html": [
       "<div>\n",
       "<style scoped>\n",
       "    .dataframe tbody tr th:only-of-type {\n",
       "        vertical-align: middle;\n",
       "    }\n",
       "\n",
       "    .dataframe tbody tr th {\n",
       "        vertical-align: top;\n",
       "    }\n",
       "\n",
       "    .dataframe thead th {\n",
       "        text-align: right;\n",
       "    }\n",
       "</style>\n",
       "<table border=\"1\" class=\"dataframe\">\n",
       "  <thead>\n",
       "    <tr style=\"text-align: right;\">\n",
       "      <th></th>\n",
       "      <th>Truth</th>\n",
       "      <th>manual</th>\n",
       "      <th>lm</th>\n",
       "    </tr>\n",
       "  </thead>\n",
       "  <tbody>\n",
       "    <tr>\n",
       "      <th>NTU calculus GPA</th>\n",
       "      <td>2.786419</td>\n",
       "      <td>2.824579</td>\n",
       "      <td>2.824579</td>\n",
       "    </tr>\n",
       "  </tbody>\n",
       "</table>\n",
       "</div>"
      ],
      "text/plain": [
       "                     Truth    manual        lm\n",
       "NTU calculus GPA  2.786419  2.824579  2.824579"
      ]
     },
     "execution_count": 17,
     "metadata": {},
     "output_type": "execute_result"
    }
   ],
   "source": [
    "predi_data = np.array([3.123456, 1, 0])\n",
    "predi_lm = calculus_lm.predict(predi_data.reshape(1,-1))\n",
    "\n",
    "predi_truth = true_beta[\"Intercept\"] + true_beta[\"hs_math_gpa\"] * predi_data[0] + true_beta[\"hs_calculus\"] * predi_data[1] + true_beta[\"NTU_precalc\"] * predi_data[2]\n",
    "\n",
    "predi_man = beta[0] + beta[1] * predi_data[0] + beta[2] * predi_data[1] + beta[3] * predi_data[2]\n",
    "\n",
    "predi_dic = {'Truth' : predi_truth, 'manual' : predi_man, 'lm' : predi_lm[0]}\n",
    "predi_compare = pd.DataFrame(data = predi_dic, index = [\"NTU calculus GPA\"])\n",
    "predi_compare"
   ]
  },
  {
   "cell_type": "markdown",
   "metadata": {},
   "source": [
    "<h4> reference : <br>\n",
    "    http://rebeccaferrell.github.io/CSSS508/Homework/template-HW4-key.html<br>\n",
    "    https://pandas.pydata.org/docs/reference/api/pandas.DataFrame.html<br>\n",
    "    https://scikit-learn.org/stable/"
   ]
  }
 ],
 "metadata": {
  "kernelspec": {
   "display_name": "Python 3",
   "language": "python",
   "name": "python3"
  },
  "language_info": {
   "codemirror_mode": {
    "name": "ipython",
    "version": 3
   },
   "file_extension": ".py",
   "mimetype": "text/x-python",
   "name": "python",
   "nbconvert_exporter": "python",
   "pygments_lexer": "ipython3",
   "version": "3.8.5"
  }
 },
 "nbformat": 4,
 "nbformat_minor": 4
}
