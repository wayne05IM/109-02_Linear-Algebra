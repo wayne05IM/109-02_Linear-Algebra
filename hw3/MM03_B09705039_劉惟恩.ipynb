{
 "cells": [
  {
   "cell_type": "markdown",
   "metadata": {},
   "source": [
    "<H2>MM03_B09705039_劉惟恩"
   ]
  },
  {
   "cell_type": "code",
   "execution_count": 1,
   "metadata": {},
   "outputs": [],
   "source": [
    "import numpy as np"
   ]
  },
  {
   "cell_type": "markdown",
   "metadata": {},
   "source": [
    "<H3>Question 1"
   ]
  },
  {
   "cell_type": "markdown",
   "metadata": {},
   "source": [
    "<H4>(a)<br>\n",
    "purpose: generate six sentences<br>\n",
    "result: create six string data"
   ]
  },
  {
   "cell_type": "code",
   "execution_count": 2,
   "metadata": {},
   "outputs": [],
   "source": [
    "A = \"I love Management Mathematics\"\n",
    "B = \"I hate Management Mathematics\"\n",
    "C = \"I love Operations Research\"\n",
    "D = \"I hate Operations Research\"\n",
    "E = \"I love data mining\"\n",
    "F = \"I hate data mining\""
   ]
  },
  {
   "cell_type": "markdown",
   "metadata": {},
   "source": [
    "<H4>(b)<br>\n",
    "purpose: split all six sentences and convert them into lowercase<br>\n",
    "result: create six string lists with words in lowercase"
   ]
  },
  {
   "cell_type": "code",
   "execution_count": 3,
   "metadata": {},
   "outputs": [
    {
     "name": "stdout",
     "output_type": "stream",
     "text": [
      "['i', 'love', 'management', 'mathematics']\n",
      "['i', 'hate', 'management', 'mathematics']\n",
      "['i', 'love', 'operations', 'research']\n",
      "['i', 'hate', 'operations', 'research']\n",
      "['i', 'love', 'data', 'mining']\n",
      "['i', 'hate', 'data', 'mining']\n"
     ]
    }
   ],
   "source": [
    "wordsA = A.lower().split()\n",
    "wordsB = B.lower().split()\n",
    "wordsC = C.lower().split()\n",
    "wordsD = D.lower().split()\n",
    "wordsE = E.lower().split()\n",
    "wordsF = F.lower().split()\n",
    "\n",
    "for i in wordsA, wordsB, wordsC, wordsD, wordsE, wordsF:\n",
    "    print(i)"
   ]
  },
  {
   "cell_type": "markdown",
   "metadata": {},
   "source": [
    "<h4>(c)<br>\n",
    "purpose: identify the dimensionality of the feature space and print all vocabulary<br>\n",
    "result: create a set of different vocabulary"
   ]
  },
  {
   "cell_type": "code",
   "execution_count": 4,
   "metadata": {},
   "outputs": [
    {
     "name": "stdout",
     "output_type": "stream",
     "text": [
      "{'love', 'operations', 'mining', 'mathematics', 'data', 'research', 'hate', 'i', 'management'}\n"
     ]
    }
   ],
   "source": [
    "vocab = set(wordsA)\n",
    "\n",
    "for i in wordsA, wordsB, wordsC, wordsD, wordsE, wordsF:\n",
    "    vocab = vocab.union(set(i))\n",
    "\n",
    "print(vocab)"
   ]
  },
  {
   "cell_type": "markdown",
   "metadata": {},
   "source": [
    "<h4>(d)<br>\n",
    "purpose: build the one to one mapping between features and IDs in the feature space<br>\n",
    "result: convert vocab in to a list"
   ]
  },
  {
   "cell_type": "code",
   "execution_count": 5,
   "metadata": {},
   "outputs": [
    {
     "name": "stdout",
     "output_type": "stream",
     "text": [
      "['love', 'operations', 'mining', 'mathematics', 'data', 'research', 'hate', 'i', 'management']\n"
     ]
    }
   ],
   "source": [
    "vocab = list(vocab)\n",
    "print(vocab)"
   ]
  },
  {
   "cell_type": "markdown",
   "metadata": {},
   "source": [
    "<h4>(e)<br>\n",
    "purpose: declare six 1D arrays for the six sentences and build each word vector by increasing the corresponding feature value<br>\n",
    "result: create six vectors of each sentence"
   ]
  },
  {
   "cell_type": "code",
   "execution_count": 6,
   "metadata": {},
   "outputs": [
    {
     "name": "stdout",
     "output_type": "stream",
     "text": [
      "[1. 0. 0. 1. 0. 0. 0. 1. 1.]\n",
      "[0. 0. 0. 1. 0. 0. 1. 1. 1.]\n",
      "[1. 1. 0. 0. 0. 1. 0. 1. 0.]\n",
      "[0. 1. 0. 0. 0. 1. 1. 1. 0.]\n",
      "[1. 0. 1. 0. 1. 0. 0. 1. 0.]\n",
      "[0. 0. 1. 0. 1. 0. 1. 1. 0.]\n"
     ]
    }
   ],
   "source": [
    "vA = np.zeros(len(vocab), dtype=float)\n",
    "vB = np.zeros(len(vocab), dtype=float)\n",
    "vC = np.zeros(len(vocab), dtype=float)\n",
    "vD = np.zeros(len(vocab), dtype=float)\n",
    "vE = np.zeros(len(vocab), dtype=float)\n",
    "vF = np.zeros(len(vocab), dtype=float)\n",
    "\n",
    "for i, j in zip((wordsA, wordsB, wordsC, wordsD, wordsE, wordsF), (vA, vB, vC, vD, vE, vF)):\n",
    "    for w in i:\n",
    "        i = vocab.index(w)\n",
    "        j[i] += 1\n",
    "    \n",
    "for i in vA, vB, vC, vD, vE, vF:\n",
    "    print(i)"
   ]
  },
  {
   "cell_type": "markdown",
   "metadata": {},
   "source": [
    "<h4>(f)<br>\n",
    "purpose: compute the cosine similarity between two vectors, and show a 6*6 matrix including these similarity values<br>\n",
    "result: create a 6*6 matrix of all cosine values"
   ]
  },
  {
   "cell_type": "code",
   "execution_count": 7,
   "metadata": {},
   "outputs": [
    {
     "name": "stdout",
     "output_type": "stream",
     "text": [
      "[[1.   0.75 0.5  0.25 0.5  0.25]\n",
      " [0.75 1.   0.25 0.5  0.25 0.5 ]\n",
      " [0.5  0.25 1.   0.75 0.5  0.25]\n",
      " [0.25 0.5  0.75 1.   0.25 0.5 ]\n",
      " [0.5  0.25 0.5  0.25 1.   0.75]\n",
      " [0.25 0.5  0.25 0.5  0.75 1.  ]]\n"
     ]
    }
   ],
   "source": [
    "sol_matrix = np.eye(6)\n",
    "num_i = -1\n",
    "for i in vA, vB, vC, vD, vE, vF:\n",
    "    num_i += 1\n",
    "    num_j = -1\n",
    "    for j in vA, vB, vC, vD, vE, vF:\n",
    "        num_j += 1\n",
    "        cos = np.dot(i, j) / (np.sqrt(np.dot(i,i)) * np.sqrt(np.dot(j,j)))\n",
    "        sol_matrix[num_i][num_j] = cos\n",
    "print(sol_matrix)"
   ]
  },
  {
   "cell_type": "markdown",
   "metadata": {},
   "source": [
    "<h4>(g)<br>\n",
    "purpose: draw results of the similarity matrix<br>\n",
    "result: the similarity matrix is a symetric matrix and only has similarity values of 1, 0.25, 0.5, 0.75"
   ]
  },
  {
   "cell_type": "markdown",
   "metadata": {},
   "source": [
    "<H3>Question 2"
   ]
  },
  {
   "cell_type": "code",
   "execution_count": 8,
   "metadata": {},
   "outputs": [],
   "source": [
    "import math"
   ]
  },
  {
   "cell_type": "markdown",
   "metadata": {},
   "source": [
    "<h4>(a)<br>\n",
    "purpose: Build up the matrix, and convert all column vectors into unit vectors as matrix Q.<br>\n",
    "result: Create a matrix of 8 unit vectors Q."
   ]
  },
  {
   "cell_type": "code",
   "execution_count": 9,
   "metadata": {},
   "outputs": [
    {
     "name": "stdout",
     "output_type": "stream",
     "text": [
      "[[0.         0.59408853 0.32732684 0.         0.1        0.\n",
      "  0.14744196 0.15430335]\n",
      " [0.         0.         0.         0.         0.         0.5\n",
      "  0.44232587 0.3086067 ]\n",
      " [0.53916387 0.39605902 0.43643578 0.57353933 0.4        0.\n",
      "  0.44232587 0.46291005]\n",
      " [0.64699664 0.49507377 0.32732684 0.3441236  0.4        0.4\n",
      "  0.44232587 0.3086067 ]\n",
      " [0.         0.         0.         0.         0.3        0.\n",
      "  0.58976782 0.46291005]\n",
      " [0.         0.         0.         0.         0.4        0.6\n",
      "  0.         0.3086067 ]\n",
      " [0.         0.         0.54554473 0.22941573 0.3        0.3\n",
      "  0.         0.15430335]\n",
      " [0.53916387 0.29704426 0.32732684 0.22941573 0.4        0.2\n",
      "  0.14744196 0.15430335]\n",
      " [0.         0.         0.         0.57353933 0.1        0.3\n",
      "  0.14744196 0.        ]\n",
      " [0.         0.39605902 0.43643578 0.3441236  0.4        0.1\n",
      "  0.         0.46291005]]\n"
     ]
    }
   ],
   "source": [
    "Q = np.array([[0., 6, 3, 0, 1, 0, 1, 1],\n",
    "              [0, 0, 0, 0, 0, 5, 3, 2],\n",
    "              [5, 4, 4, 5, 4, 0, 3, 3],\n",
    "              [6, 5, 3, 3, 4, 4, 3, 2],\n",
    "              [0, 0, 0, 0, 3, 0, 4, 3],\n",
    "              [0, 0, 0, 0, 4, 6, 0, 2],\n",
    "              [0, 0, 5, 2, 3, 3, 0, 1],\n",
    "              [5, 3, 3, 2, 4, 2, 1, 1],\n",
    "              [0, 0, 0, 5, 1, 3, 1, 0],\n",
    "              [0, 4, 4, 3, 4, 1, 0, 3]])\n",
    "\n",
    "for i in range(8):\n",
    "    sumC = 0\n",
    "    for j in range(10):\n",
    "        sumC += (Q[j][i]) ** 2\n",
    "    sumC = math.sqrt(sumC)\n",
    "    for j in range(10):\n",
    "        Q[j][i] = Q[j][i] / sumC\n",
    "\n",
    "print(Q)"
   ]
  },
  {
   "cell_type": "markdown",
   "metadata": {},
   "source": [
    "<h4>(b)<br>\n",
    "purpose: Build up an unit search vector x, entries are all 0 except for the three rows corresponding to the search rows.<br>\n",
    "result: Create the unit search vector."
   ]
  },
  {
   "cell_type": "code",
   "execution_count": 10,
   "metadata": {},
   "outputs": [
    {
     "name": "stdout",
     "output_type": "stream",
     "text": [
      "[[0.57735027]\n",
      " [0.        ]\n",
      " [0.        ]\n",
      " [0.57735027]\n",
      " [0.        ]\n",
      " [0.        ]\n",
      " [0.        ]\n",
      " [0.57735027]\n",
      " [0.        ]\n",
      " [0.        ]]\n"
     ]
    }
   ],
   "source": [
    "x = np.array([[1.],\n",
    "              [0],\n",
    "              [0],\n",
    "              [1],\n",
    "              [0],\n",
    "              [0],\n",
    "              [0],\n",
    "              [1],\n",
    "              [0],\n",
    "              [0]])\n",
    "\n",
    "sumA = 0\n",
    "for i in range(10):\n",
    "    sumA += (x[i][0]) ** 2\n",
    "sumA = math.sqrt(sumA)\n",
    "for i in range(10):\n",
    "    x[i][0] = x[i][0] / sumA\n",
    "    \n",
    "print(x)"
   ]
  },
  {
   "cell_type": "markdown",
   "metadata": {},
   "source": [
    "<h4>(c)<br>\n",
    "purpose: Calculate the cosine similarity and rank the modules.<br>\n",
    "result: Create a vector of cosine similarity and rank the similarity of the modules."
   ]
  },
  {
   "cell_type": "code",
   "execution_count": 11,
   "metadata": {},
   "outputs": [
    {
     "name": "stdout",
     "output_type": "stream",
     "text": [
      "[[0.68483009]\n",
      " [0.80032673]\n",
      " [0.56694671]\n",
      " [0.33113309]\n",
      " [0.51961524]\n",
      " [0.34641016]\n",
      " [0.42562827]\n",
      " [0.35634832]]\n",
      "Rank:\n",
      "1 : M2\n",
      "2 : M1\n",
      "3 : M3\n",
      "4 : M5\n",
      "5 : M7\n",
      "6 : M8\n",
      "7 : M6\n",
      "8 : M4\n"
     ]
    }
   ],
   "source": [
    "y = np.dot(Q.T, x)\n",
    "print(y)\n",
    "\n",
    "sort = np.zeros((1, 8))\n",
    "for i in range(8):\n",
    "    maxNum = -1\n",
    "    now = 0.0\n",
    "    for j in range(8):\n",
    "        if y[j][0] >= now:\n",
    "            maxNum = j\n",
    "            now = y[j][0]\n",
    "    sort[0][i] = maxNum\n",
    "    y[maxNum][0] = 0\n",
    "            \n",
    "print(\"Rank:\")\n",
    "for i in range(8):\n",
    "    print(\"%d : M%d\" %(i + 1 ,sort[0][i] + 1))"
   ]
  }
 ],
 "metadata": {
  "kernelspec": {
   "display_name": "Python 3",
   "language": "python",
   "name": "python3"
  },
  "language_info": {
   "codemirror_mode": {
    "name": "ipython",
    "version": 3
   },
   "file_extension": ".py",
   "mimetype": "text/x-python",
   "name": "python",
   "nbconvert_exporter": "python",
   "pygments_lexer": "ipython3",
   "version": "3.8.5"
  }
 },
 "nbformat": 4,
 "nbformat_minor": 4
}
